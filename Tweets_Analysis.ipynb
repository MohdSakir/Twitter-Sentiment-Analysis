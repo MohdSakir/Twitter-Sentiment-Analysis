{
  "nbformat": 4,
  "nbformat_minor": 0,
  "metadata": {
    "colab": {
      "provenance": [],
      "collapsed_sections": []
    },
    "kernelspec": {
      "name": "python3",
      "display_name": "Python 3"
    },
    "language_info": {
      "name": "python"
    }
  },
  "cells": [
    {
      "cell_type": "code",
      "execution_count": null,
      "metadata": {
        "id": "Ea4QHHLl5b9o"
      },
      "outputs": [],
      "source": [
        "import tweepy\n",
        "from textblob import TextBlob\n",
        "from wordcloud import WordCloud\n",
        "import pandas as pd\n",
        "import numpy as mp\n",
        "import re\n",
        "import matplotlib.pyplot as plt\n",
        "plt.style.use('fivethirtyeight')"
      ]
    },
    {
      "cell_type": "code",
      "source": [
        "consumerkey='133WQazwdixVCDHjMZjW09HwG'\n",
        "consumersecret='6lsIjQQth5z5tU3dyDEP92BrCpy8xuckTQ1WEQEm6jGcVVzIaJ'\n",
        "accessToken='1444301444916539394-7X9nRHwzLtKszZXhKSAUhALekClIU9'\n",
        "accessTokenSecret='JRlQnHZplLr5o6HBBk8q5QWXtzY46FFGdCWcDJkyGcNFV'"
      ],
      "metadata": {
        "id": "SZrS6C-d5i2w"
      },
      "execution_count": null,
      "outputs": []
    },
    {
      "cell_type": "code",
      "source": [
        "authenticate=tweepy.OAuthHandler(consumerkey,consumersecret)\n",
        "\n",
        "authenticate.set_access_token(accessToken,accessTokenSecret)\n",
        "\n",
        "api=tweepy.API(authenticate,wait_on_rate_limit=True)"
      ],
      "metadata": {
        "id": "qXGabq125mve"
      },
      "execution_count": null,
      "outputs": []
    },
    {
      "cell_type": "code",
      "source": [
        "posts=api.search(q=\"SamsungIndia\",lang=\"en\",rrp=1000)\n",
        "for tweet in posts:\n",
        "  print(tweet.text)\n",
        "for tweet in posts:\n",
        "  print(tweet.user.name)"
      ],
      "metadata": {
        "id": "qQbyUaRB5nsF"
      },
      "execution_count": null,
      "outputs": []
    },
    {
      "cell_type": "code",
      "source": [
        "df=pd.DataFrame( [tweet.text for tweet in posts],columns=['Tweets'])\n",
        "\n",
        "df_add = pd.DataFrame([tweet.user.name for tweet in posts],columns=['Name'])\n",
        "df = pd.concat([df,df_add], axis=1)\n",
        "df.head(15)"
      ],
      "metadata": {
        "id": "9unSM37s5svw"
      },
      "execution_count": null,
      "outputs": []
    },
    {
      "cell_type": "code",
      "source": [
        "def cleanTxt(text):\n",
        "  text=re.sub(r'@[A-Za-z0-9]+','',text)#Remove @mention\n",
        "  text=re.sub(r'#','',text)#Removing the '#' symbol\n",
        "  text=re.sub(r'RT[\\s]+','',text)#Removing RT\n",
        "  text=re.sub(r'https?:\\/\\/\\S+','',text)#Remove the hyper link\n",
        "\n",
        "  return text\n",
        "df['Tweets']=df['Tweets'].apply(cleanTxt)\n",
        "\n",
        "df"
      ],
      "metadata": {
        "id": "dcPW6E6N5xhY"
      },
      "execution_count": null,
      "outputs": []
    },
    {
      "cell_type": "code",
      "source": [
        "def getSubjectivity(text):\n",
        "  return TextBlob(text).sentiment.subjectivity\n",
        "\n",
        "\n",
        "def getPolarity(text):\n",
        "  return TextBlob(text).sentiment.polarity\n",
        "\n",
        "df['Subjectivity']=df['Tweets'].apply(getSubjectivity)\n",
        "df['Polarity']=df['Tweets'].apply(getPolarity)\n",
        "\n",
        "df"
      ],
      "metadata": {
        "id": "8KCQVMBz508u"
      },
      "execution_count": null,
      "outputs": []
    },
    {
      "cell_type": "code",
      "source": [
        "allWords=' '.join([twts for twts in df['Tweets']])\n",
        "wordCloud=WordCloud(width=500,height=300,random_state=21,max_font_size=119).generate(allWords)\n",
        "\n",
        "plt.imshow(wordCloud,interpolation=\"bilinear\")\n",
        "plt.axis('off')\n",
        "plt.show()"
      ],
      "metadata": {
        "id": "ZhwnzdvW55Aq"
      },
      "execution_count": null,
      "outputs": []
    },
    {
      "cell_type": "code",
      "source": [
        "def getAnalysis(score):\n",
        "  if score<0:\n",
        "    return 'Negative'\n",
        "  elif score==0:\n",
        "    return 'Neutral'\n",
        "  else:\n",
        "    return 'Positive'\n",
        "\n",
        "df['Analysis']=df['Polarity'].apply(getAnalysis)\n",
        "\n",
        "\n",
        "df"
      ],
      "metadata": {
        "id": "eof57q6Y57_Y"
      },
      "execution_count": null,
      "outputs": []
    },
    {
      "cell_type": "code",
      "source": [
        "j=1\n",
        "sortedDF=df.sort_values(by=['Polarity'])\n",
        "for i in range(0,sortedDF.shape[0]):\n",
        "  if (sortedDF['Analysis'][i]=='Positive'):\n",
        "      print(str(j)+') '+sortedDF['Tweets'][i])\n",
        "      print()\n",
        "      j=j+1"
      ],
      "metadata": {
        "id": "3rhQYFz15-0u"
      },
      "execution_count": null,
      "outputs": []
    },
    {
      "cell_type": "code",
      "source": [
        "j=1\n",
        "sortedDF=df.sort_values(by=['Polarity'],ascending='False')\n",
        "for i in range(0,sortedDF.shape[0]):\n",
        "  if (sortedDF['Analysis'][i]=='Negative'):\n",
        "      print(str(j)+') '+sortedDF['Tweets'][i])\n",
        "      print(str(j)+')'+sortedDF['Name'][i])\n",
        "      print()\n",
        "      j=j+1"
      ],
      "metadata": {
        "id": "CeJQuCNI6BwL"
      },
      "execution_count": null,
      "outputs": []
    },
    {
      "cell_type": "code",
      "source": [
        "plt.figure(figsize=(8,6))\n",
        "for i in range(0,df.shape[0]):\n",
        "  plt.scatter(df['Polarity'][i],df['Subjectivity'][i],color='Blue')\n",
        "\n",
        "plt.title('Sentiment Analysis')\n",
        "plt.xlabel('Polarity')\n",
        "plt.ylabel('Subjectivity')\n",
        "plt.show()"
      ],
      "metadata": {
        "id": "juG9Lvo46Fne"
      },
      "execution_count": null,
      "outputs": []
    },
    {
      "cell_type": "code",
      "source": [
        "ptweets=df[df.Analysis=='Positive']\n",
        "ptweets=ptweets['Tweets']\n",
        "\n",
        "round((ptweets.shape[0]/df.shape[0] )*100,1)"
      ],
      "metadata": {
        "id": "hMX0bxJg6IlY"
      },
      "execution_count": null,
      "outputs": []
    },
    {
      "cell_type": "code",
      "source": [
        "ntweets=df[df.Analysis=='Negative']\n",
        "ntweets=ntweets['Tweets']\n",
        "\n",
        "round((ntweets.shape[0]/df.shape[0] )*100,1)"
      ],
      "metadata": {
        "id": "xDe2qyWR6LWV"
      },
      "execution_count": null,
      "outputs": []
    },
    {
      "cell_type": "code",
      "source": [
        "df['Analysis'].value_counts()\n",
        "\n",
        "plt.title('Sentiment Alalysis')\n",
        "plt.xlabel('Sentiment')\n",
        "plt.ylabel('Counts')\n",
        "df['Analysis'].value_counts().plot(kind='bar')\n",
        "plt.show()"
      ],
      "metadata": {
        "id": "ihniuUDk6Nup"
      },
      "execution_count": null,
      "outputs": []
    }
  ]
}